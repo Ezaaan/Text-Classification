{
 "cells": [
  {
   "cell_type": "code",
   "execution_count": null,
   "metadata": {},
   "outputs": [],
   "source": [
    "import pandas as pd\n",
    "import re\n",
    "import nltk\n",
    "from nltk.corpus import stopwords\n",
    "from nltk.tokenize import word_tokenize\n",
    "from nltk.stem import WordNetLemmatizer\n",
    "from sklearn.feature_extraction.text import CountVectorizer\n",
    "from sklearn.linear_model import LogisticRegression\n",
    "from sklearn.naive_bayes import MultinomialNB\n",
    "from sklearn.svm import SVC\n",
    "from sklearn.metrics import accuracy_score, classification_report\n",
    "\n",
    "nltk.download('punkt')\n",
    "nltk.download('punkt_tab')\n",
    "nltk.download('stopwords')\n",
    "nltk.download('wordnet')\n",
    "\n",
    "# Preprocessing function\n",
    "def preprocess_text(text):\n",
    "    # Remove non-alphabetic characters\n",
    "    text = re.sub(r'[^a-zA-Z\\s]', '', text)\n",
    "\n",
    "    # Tokenize\n",
    "    tokens = word_tokenize(text)\n",
    "\n",
    "    # Remove stopwords\n",
    "    stop_words = set(stopwords.words('indonesian'))\n",
    "    stop_words = stop_words - {'tidak', 'kurang', 'bukan', 'tak', 'belum', 'enggak', 'enggaklah', 'janganlah', 'jangan', 'jgn', 'jgnlah', 'nggak', 'nggaklah', 'ga', 'gak', 'gaklah', 'tdk', 'tdklah', 'taklah', 'kuranglah', 'bukanlah', 'tidaklah'}\n",
    "    tokens = [word for word in tokens if word not in stop_words]\n",
    "    \n",
    "    # Lemmatize\n",
    "    lemmatizer = WordNetLemmatizer()\n",
    "    tokens = [lemmatizer.lemmatize(word) for word in tokens]\n",
    "\n",
    "    return ' '.join(tokens)"
   ]
  },
  {
   "cell_type": "code",
   "execution_count": 2,
   "metadata": {},
   "outputs": [],
   "source": [
    "# Load data\n",
    "train_data = pd.read_csv('data/train_preprocess.tsv', sep='\\t', header=None, names=['text', 'label'])\n",
    "valid_data = pd.read_csv('data/valid_preprocess.tsv', sep='\\t', header=None, names=['text', 'label'])\n",
    "test_data = pd.read_csv('data/test_preprocess.tsv', sep='\\t', header=None, names=['text', 'label'])\n",
    "\n",
    "# Preprocess data\n",
    "X_train = train_data['text'].apply(preprocess_text)\n",
    "y_train = train_data['label']\n",
    "\n",
    "X_valid = valid_data['text'].apply(preprocess_text)\n",
    "y_valid = valid_data['label']\n",
    "\n",
    "X_test = test_data['text'].apply(preprocess_text)\n",
    "y_test = test_data['label']"
   ]
  },
  {
   "cell_type": "code",
   "execution_count": 3,
   "metadata": {},
   "outputs": [],
   "source": [
    "# Use Bag of Words\n",
    "vectorizer = CountVectorizer(lowercase=True, ngram_range=(1,2))\n",
    "X_train_bow = vectorizer.fit_transform(X_train)\n",
    "X_valid_bow = vectorizer.transform(X_valid)\n",
    "X_test_bow = vectorizer.transform(X_test)"
   ]
  },
  {
   "cell_type": "markdown",
   "metadata": {},
   "source": [
    "# Logistic Regression"
   ]
  },
  {
   "cell_type": "code",
   "execution_count": null,
   "metadata": {},
   "outputs": [],
   "source": [
    "# Logistic Regression model\n",
    "lr_model = LogisticRegression(max_iter=200)\n",
    "lr_model.fit(X_train_bow, y_train)\n",
    "\n",
    "y_valid_pred = lr_model.predict(X_valid_bow)\n",
    "print('Validation Accuracy:', accuracy_score(y_valid, y_valid_pred))\n",
    "print('Validation Classification Report:\\n', classification_report(y_valid, y_valid_pred))\n",
    "\n",
    "y_test_pred = lr_model.predict(X_test_bow)\n",
    "print('Test Accuracy:', accuracy_score(y_test, y_test_pred))\n",
    "print('Test Classification Report:\\n', classification_report(y_test, y_test_pred))"
   ]
  },
  {
   "cell_type": "markdown",
   "metadata": {},
   "source": [
    "# Naive Bayes"
   ]
  },
  {
   "cell_type": "code",
   "execution_count": null,
   "metadata": {},
   "outputs": [],
   "source": [
    "# Naive Bayes model\n",
    "nb_model = MultinomialNB()\n",
    "nb_model.fit(X_train_bow, y_train)\n",
    "\n",
    "y_valid_pred = nb_model.predict(X_valid_bow)\n",
    "print('Validation Accuracy:', accuracy_score(y_valid, y_valid_pred))\n",
    "print('Validation Classification Report:\\n', classification_report(y_valid, y_valid_pred))\n",
    "\n",
    "y_test_pred = nb_model.predict(X_test_bow)\n",
    "print('Test Accuracy:', accuracy_score(y_test, y_test_pred))\n",
    "print('Test Classification Report:\\n', classification_report(y_test, y_test_pred))"
   ]
  },
  {
   "cell_type": "markdown",
   "metadata": {},
   "source": [
    "# SVM"
   ]
  },
  {
   "cell_type": "code",
   "execution_count": null,
   "metadata": {},
   "outputs": [],
   "source": [
    "# SVM model\n",
    "svm_model = SVC(kernel='linear')\n",
    "svm_model.fit(X_train_bow, y_train)\n",
    "\n",
    "y_valid_pred = svm_model.predict(X_valid_bow)\n",
    "print('Validation Accuracy:', accuracy_score(y_valid, y_valid_pred))\n",
    "print('Validation Classification Report:\\n', classification_report(y_valid, y_valid_pred))\n",
    "\n",
    "y_test_pred = svm_model.predict(X_test_bow)\n",
    "print('Test Accuracy:', accuracy_score(y_test, y_test_pred))\n",
    "print('Test Classification Report:\\n', classification_report(y_test, y_test_pred))"
   ]
  }
 ],
 "metadata": {
  "kernelspec": {
   "display_name": "Python 3",
   "language": "python",
   "name": "python3"
  },
  "language_info": {
   "codemirror_mode": {
    "name": "ipython",
    "version": 3
   },
   "file_extension": ".py",
   "mimetype": "text/x-python",
   "name": "python",
   "nbconvert_exporter": "python",
   "pygments_lexer": "ipython3",
   "version": "3.10.7"
  }
 },
 "nbformat": 4,
 "nbformat_minor": 2
}
